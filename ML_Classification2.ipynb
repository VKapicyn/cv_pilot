{
 "cells": [
  {
   "cell_type": "code",
   "execution_count": 1,
   "id": "ceramic-sacrifice",
   "metadata": {},
   "outputs": [],
   "source": [
    "import pandas as pd\n",
    "from  sklearn.linear_model import SGDClassifier\n",
    "from  sklearn.neighbors import KNeighborsClassifier\n",
    "from sklearn.tree import DecisionTreeClassifier\n",
    "from sklearn.ensemble import RandomForestClassifier"
   ]
  },
  {
   "cell_type": "code",
   "execution_count": 2,
   "id": "floral-character",
   "metadata": {},
   "outputs": [],
   "source": [
    "from lightgbm import LGBMClassifier"
   ]
  },
  {
   "cell_type": "code",
   "execution_count": 3,
   "id": "authentic-indonesian",
   "metadata": {},
   "outputs": [],
   "source": [
    "from sklearn.model_selection import KFold"
   ]
  },
  {
   "cell_type": "markdown",
   "id": "ecological-eligibility",
   "metadata": {},
   "source": [
    "### Загружаем данные в виде pandas.DataFrame и делим на test и train"
   ]
  },
  {
   "cell_type": "code",
   "execution_count": 4,
   "id": "advisory-dependence",
   "metadata": {},
   "outputs": [
    {
     "data": {
      "text/plain": [
       "(385, 157)"
      ]
     },
     "execution_count": 4,
     "metadata": {},
     "output_type": "execute_result"
    }
   ],
   "source": [
    "df = pd.read_csv('result2.csv', delimiter=',')\n",
    "df.shape"
   ]
  },
  {
   "cell_type": "code",
   "execution_count": 32,
   "id": "sapphire-lender",
   "metadata": {},
   "outputs": [],
   "source": [
    "features_target = features + ['target']\n",
    "\n",
    "train = df[:300][features_target]\n",
    "test  = df[300:][features_target]"
   ]
  },
  {
   "cell_type": "code",
   "execution_count": 33,
   "id": "least-powell",
   "metadata": {},
   "outputs": [
    {
     "data": {
      "text/plain": [
       "(300, 11)"
      ]
     },
     "execution_count": 33,
     "metadata": {},
     "output_type": "execute_result"
    }
   ],
   "source": [
    "train.shape"
   ]
  },
  {
   "cell_type": "code",
   "execution_count": 8,
   "id": "metallic-poultry",
   "metadata": {},
   "outputs": [
    {
     "name": "stdout",
     "output_type": "stream",
     "text": [
      "moments_normalized-0-0 63\n",
      "moments_normalized-0-1 63\n",
      "moments_normalized-1-0 63\n",
      "weighted_moments_normalized-0-0 63\n",
      "weighted_moments_normalized-0-1 63\n",
      "weighted_moments_normalized-1-0 63\n"
     ]
    }
   ],
   "source": [
    "bad = []\n",
    "# Проверяем на наличие NULL-ов\n",
    "for a in test:\n",
    "    if test[a].isnull().sum() != 0:\n",
    "        print(a, test[a].isnull().sum())\n",
    "        bad.append(a)"
   ]
  },
  {
   "cell_type": "code",
   "execution_count": 4,
   "id": "complimentary-workplace",
   "metadata": {},
   "outputs": [],
   "source": [
    "# Чтоб не париться заполняем NULL-ы нулями\n",
    "train = train.fillna(0)\n",
    "test = test.fillna(0)"
   ]
  },
  {
   "cell_type": "code",
   "execution_count": 31,
   "id": "challenging-doubt",
   "metadata": {},
   "outputs": [
    {
     "data": {
      "text/html": [
       "<div>\n",
       "<style scoped>\n",
       "    .dataframe tbody tr th:only-of-type {\n",
       "        vertical-align: middle;\n",
       "    }\n",
       "\n",
       "    .dataframe tbody tr th {\n",
       "        vertical-align: top;\n",
       "    }\n",
       "\n",
       "    .dataframe thead th {\n",
       "        text-align: right;\n",
       "    }\n",
       "</style>\n",
       "<table border=\"1\" class=\"dataframe\">\n",
       "  <thead>\n",
       "    <tr style=\"text-align: right;\">\n",
       "      <th></th>\n",
       "      <th>bbox_area</th>\n",
       "      <th>convex_area</th>\n",
       "      <th>eccentricity</th>\n",
       "      <th>equivalent_diameter</th>\n",
       "      <th>filled_area</th>\n",
       "      <th>major_axis_length</th>\n",
       "      <th>minor_axis_length</th>\n",
       "      <th>perimeter</th>\n",
       "      <th>perimeter_crofton</th>\n",
       "      <th>solidity</th>\n",
       "      <th>target</th>\n",
       "    </tr>\n",
       "  </thead>\n",
       "  <tbody>\n",
       "    <tr>\n",
       "      <th>65</th>\n",
       "      <td>484</td>\n",
       "      <td>358</td>\n",
       "      <td>0.166481</td>\n",
       "      <td>16.195288</td>\n",
       "      <td>342</td>\n",
       "      <td>24.490923</td>\n",
       "      <td>24.149145</td>\n",
       "      <td>116.468037</td>\n",
       "      <td>110.418623</td>\n",
       "      <td>0.575419</td>\n",
       "      <td>круг</td>\n",
       "    </tr>\n",
       "    <tr>\n",
       "      <th>66</th>\n",
       "      <td>1666</td>\n",
       "      <td>1479</td>\n",
       "      <td>0.723981</td>\n",
       "      <td>26.916042</td>\n",
       "      <td>1342</td>\n",
       "      <td>63.723881</td>\n",
       "      <td>43.958021</td>\n",
       "      <td>286.628463</td>\n",
       "      <td>273.277931</td>\n",
       "      <td>0.384719</td>\n",
       "      <td>прямоугольник</td>\n",
       "    </tr>\n",
       "    <tr>\n",
       "      <th>67</th>\n",
       "      <td>1085</td>\n",
       "      <td>691</td>\n",
       "      <td>0.473875</td>\n",
       "      <td>22.482796</td>\n",
       "      <td>397</td>\n",
       "      <td>37.532259</td>\n",
       "      <td>33.050620</td>\n",
       "      <td>169.338095</td>\n",
       "      <td>163.224098</td>\n",
       "      <td>0.574530</td>\n",
       "      <td>треугольник</td>\n",
       "    </tr>\n",
       "    <tr>\n",
       "      <th>68</th>\n",
       "      <td>1296</td>\n",
       "      <td>1019</td>\n",
       "      <td>0.244446</td>\n",
       "      <td>20.153496</td>\n",
       "      <td>993</td>\n",
       "      <td>46.646920</td>\n",
       "      <td>45.231787</td>\n",
       "      <td>216.208153</td>\n",
       "      <td>206.318941</td>\n",
       "      <td>0.313052</td>\n",
       "      <td>круг</td>\n",
       "    </tr>\n",
       "    <tr>\n",
       "      <th>69</th>\n",
       "      <td>3477</td>\n",
       "      <td>2211</td>\n",
       "      <td>0.471600</td>\n",
       "      <td>31.655008</td>\n",
       "      <td>2142</td>\n",
       "      <td>72.403461</td>\n",
       "      <td>63.846278</td>\n",
       "      <td>348.918831</td>\n",
       "      <td>330.795795</td>\n",
       "      <td>0.355948</td>\n",
       "      <td>квадрат</td>\n",
       "    </tr>\n",
       "    <tr>\n",
       "      <th>...</th>\n",
       "      <td>...</td>\n",
       "      <td>...</td>\n",
       "      <td>...</td>\n",
       "      <td>...</td>\n",
       "      <td>...</td>\n",
       "      <td>...</td>\n",
       "      <td>...</td>\n",
       "      <td>...</td>\n",
       "      <td>...</td>\n",
       "      <td>...</td>\n",
       "      <td>...</td>\n",
       "    </tr>\n",
       "    <tr>\n",
       "      <th>380</th>\n",
       "      <td>784</td>\n",
       "      <td>481</td>\n",
       "      <td>0.495325</td>\n",
       "      <td>17.517155</td>\n",
       "      <td>481</td>\n",
       "      <td>33.048315</td>\n",
       "      <td>28.709327</td>\n",
       "      <td>142.308658</td>\n",
       "      <td>134.917068</td>\n",
       "      <td>0.501040</td>\n",
       "      <td>квадрат</td>\n",
       "    </tr>\n",
       "    <tr>\n",
       "      <th>381</th>\n",
       "      <td>5928</td>\n",
       "      <td>4147</td>\n",
       "      <td>0.646612</td>\n",
       "      <td>43.482879</td>\n",
       "      <td>3490</td>\n",
       "      <td>92.609440</td>\n",
       "      <td>70.644275</td>\n",
       "      <td>686.465079</td>\n",
       "      <td>644.105912</td>\n",
       "      <td>0.358090</td>\n",
       "      <td>mixed</td>\n",
       "    </tr>\n",
       "    <tr>\n",
       "      <th>382</th>\n",
       "      <td>864</td>\n",
       "      <td>513</td>\n",
       "      <td>0.835926</td>\n",
       "      <td>19.248707</td>\n",
       "      <td>481</td>\n",
       "      <td>41.819450</td>\n",
       "      <td>22.952278</td>\n",
       "      <td>160.852814</td>\n",
       "      <td>152.498030</td>\n",
       "      <td>0.567251</td>\n",
       "      <td>треугольник</td>\n",
       "    </tr>\n",
       "    <tr>\n",
       "      <th>383</th>\n",
       "      <td>1806</td>\n",
       "      <td>889</td>\n",
       "      <td>0.859097</td>\n",
       "      <td>20.621882</td>\n",
       "      <td>871</td>\n",
       "      <td>59.760609</td>\n",
       "      <td>30.586245</td>\n",
       "      <td>225.989899</td>\n",
       "      <td>215.592617</td>\n",
       "      <td>0.375703</td>\n",
       "      <td>прямоугольник</td>\n",
       "    </tr>\n",
       "    <tr>\n",
       "      <th>384</th>\n",
       "      <td>2365</td>\n",
       "      <td>1862</td>\n",
       "      <td>0.612604</td>\n",
       "      <td>26.026207</td>\n",
       "      <td>1774</td>\n",
       "      <td>70.630357</td>\n",
       "      <td>55.825540</td>\n",
       "      <td>319.385822</td>\n",
       "      <td>316.793381</td>\n",
       "      <td>0.285714</td>\n",
       "      <td>прямоугольник</td>\n",
       "    </tr>\n",
       "  </tbody>\n",
       "</table>\n",
       "<p>320 rows × 11 columns</p>\n",
       "</div>"
      ],
      "text/plain": [
       "     bbox_area  convex_area  eccentricity  equivalent_diameter  filled_area  \\\n",
       "65         484          358      0.166481            16.195288          342   \n",
       "66        1666         1479      0.723981            26.916042         1342   \n",
       "67        1085          691      0.473875            22.482796          397   \n",
       "68        1296         1019      0.244446            20.153496          993   \n",
       "69        3477         2211      0.471600            31.655008         2142   \n",
       "..         ...          ...           ...                  ...          ...   \n",
       "380        784          481      0.495325            17.517155          481   \n",
       "381       5928         4147      0.646612            43.482879         3490   \n",
       "382        864          513      0.835926            19.248707          481   \n",
       "383       1806          889      0.859097            20.621882          871   \n",
       "384       2365         1862      0.612604            26.026207         1774   \n",
       "\n",
       "     major_axis_length  minor_axis_length   perimeter  perimeter_crofton  \\\n",
       "65           24.490923          24.149145  116.468037         110.418623   \n",
       "66           63.723881          43.958021  286.628463         273.277931   \n",
       "67           37.532259          33.050620  169.338095         163.224098   \n",
       "68           46.646920          45.231787  216.208153         206.318941   \n",
       "69           72.403461          63.846278  348.918831         330.795795   \n",
       "..                 ...                ...         ...                ...   \n",
       "380          33.048315          28.709327  142.308658         134.917068   \n",
       "381          92.609440          70.644275  686.465079         644.105912   \n",
       "382          41.819450          22.952278  160.852814         152.498030   \n",
       "383          59.760609          30.586245  225.989899         215.592617   \n",
       "384          70.630357          55.825540  319.385822         316.793381   \n",
       "\n",
       "     solidity         target  \n",
       "65   0.575419           круг  \n",
       "66   0.384719  прямоугольник  \n",
       "67   0.574530    треугольник  \n",
       "68   0.313052           круг  \n",
       "69   0.355948        квадрат  \n",
       "..        ...            ...  \n",
       "380  0.501040        квадрат  \n",
       "381  0.358090          mixed  \n",
       "382  0.567251    треугольник  \n",
       "383  0.375703  прямоугольник  \n",
       "384  0.285714  прямоугольник  \n",
       "\n",
       "[320 rows x 11 columns]"
      ]
     },
     "execution_count": 31,
     "metadata": {},
     "output_type": "execute_result"
    }
   ],
   "source": [
    "train"
   ]
  },
  {
   "cell_type": "code",
   "execution_count": 13,
   "id": "found-produce",
   "metadata": {},
   "outputs": [],
   "source": [
    "test.to_csv(\"example_predict.csv\")"
   ]
  },
  {
   "cell_type": "markdown",
   "id": "sticky-sacrifice",
   "metadata": {},
   "source": [
    "### Создаём и обучаем простые модели"
   ]
  },
  {
   "cell_type": "code",
   "execution_count": 12,
   "id": "analyzed-stage",
   "metadata": {},
   "outputs": [],
   "source": [
    "features = ['bbox_area', 'convex_area', 'eccentricity', 'equivalent_diameter', 'filled_area', 'major_axis_length', 'minor_axis_length','perimeter','perimeter_crofton','solidity']"
   ]
  },
  {
   "cell_type": "code",
   "execution_count": 42,
   "id": "ranging-forty",
   "metadata": {},
   "outputs": [],
   "source": [
    "# KNN Classifier\n",
    "clf = KNeighborsClassifier(n_neighbors=3)\n",
    "clf.fit(train[features], train['target'])\n",
    "\n",
    "predict = clf.predict(test[features])"
   ]
  },
  {
   "cell_type": "code",
   "execution_count": 9,
   "id": "pointed-fight",
   "metadata": {},
   "outputs": [],
   "source": [
    "# DecisionTree\n",
    "clf = DecisionTreeClassifier()\n",
    "clf.fit(train[features], train['target'])\n",
    "\n",
    "predict = clf.predict(test[features])"
   ]
  },
  {
   "cell_type": "code",
   "execution_count": 12,
   "id": "promotional-difficulty",
   "metadata": {},
   "outputs": [],
   "source": [
    "# Random Forest\n",
    "clf = RandomForestClassifier(n_estimators = 10)\n",
    "clf.fit(train[features], train['target'])\n",
    "\n",
    "predict = clf.predict(test[features])"
   ]
  },
  {
   "cell_type": "code",
   "execution_count": 42,
   "id": "dirty-possible",
   "metadata": {},
   "outputs": [],
   "source": [
    "# Boosting\n",
    "model = LGBMClassifier(n_estimators = 500, max_depth = 3)\n",
    "model.fit(train[features], train['target'])\n",
    "\n",
    "predict = model.predict(test[features])"
   ]
  },
  {
   "cell_type": "code",
   "execution_count": 14,
   "id": "hairy-assignment",
   "metadata": {},
   "outputs": [
    {
     "name": "stderr",
     "output_type": "stream",
     "text": [
      "<ipython-input-14-fd4577cbb27c>:1: SettingWithCopyWarning: \n",
      "A value is trying to be set on a copy of a slice from a DataFrame.\n",
      "Try using .loc[row_indexer,col_indexer] = value instead\n",
      "\n",
      "See the caveats in the documentation: https://pandas.pydata.org/pandas-docs/stable/user_guide/indexing.html#returning-a-view-versus-a-copy\n",
      "  test['predict'] = predict\n"
     ]
    }
   ],
   "source": [
    "test.loc[i, 'predict'] = predict[i]"
   ]
  },
  {
   "cell_type": "code",
   "execution_count": 16,
   "id": "incredible-specialist",
   "metadata": {},
   "outputs": [
    {
     "name": "stdout",
     "output_type": "stream",
     "text": [
      "0.7076923076923077\n"
     ]
    }
   ],
   "source": [
    "# Считаю процент верных предположений\n",
    "def accuracy(test):\n",
    "    i = 0\n",
    "    for index, row in test.iterrows():\n",
    "        if row['target'] == row['predict']:\n",
    "            i = i+1\n",
    "\n",
    "    perc = i/test.shape[0]\n",
    "    return perc\n",
    "\n",
    "per = accuracy(test)\n",
    "print(per)"
   ]
  },
  {
   "cell_type": "code",
   "execution_count": 39,
   "id": "basic-flush",
   "metadata": {},
   "outputs": [],
   "source": [
    "# Считаю процент верных предположений\n",
    "\n",
    "def acc(y_test, predict):\n",
    "    i = 0\n",
    "    for k in range(len(y_test)):\n",
    "        if y_test[k] == predict[k]:\n",
    "            i = i+1\n",
    "    perc = i/len(y_test)\n",
    "    return perc\n",
    "\n",
    "#per = acc(y_test, predict)\n",
    "#print(per)"
   ]
  },
  {
   "cell_type": "markdown",
   "id": "checked-enterprise",
   "metadata": {},
   "source": [
    "### Кроссвалидация"
   ]
  },
  {
   "cell_type": "code",
   "execution_count": 35,
   "id": "geographic-programmer",
   "metadata": {},
   "outputs": [
    {
     "data": {
      "text/plain": [
       "4"
      ]
     },
     "execution_count": 35,
     "metadata": {},
     "output_type": "execute_result"
    }
   ],
   "source": [
    "kf = KFold(n_splits=4)\n",
    "kf.get_n_splits(train)"
   ]
  },
  {
   "cell_type": "code",
   "execution_count": 40,
   "id": "virtual-interference",
   "metadata": {},
   "outputs": [
    {
     "name": "stdout",
     "output_type": "stream",
     "text": [
      "0 0.72\n",
      "1 0.72\n",
      "2 0.8133333333333334\n",
      "3 0.7333333333333333\n"
     ]
    },
    {
     "ename": "NameError",
     "evalue": "name 'np' is not defined",
     "output_type": "error",
     "traceback": [
      "\u001b[1;31m---------------------------------------------------------------------------\u001b[0m",
      "\u001b[1;31mNameError\u001b[0m                                 Traceback (most recent call last)",
      "\u001b[1;32m<ipython-input-40-0926c4c4c051>\u001b[0m in \u001b[0;36m<module>\u001b[1;34m\u001b[0m\n\u001b[0;32m     14\u001b[0m     \u001b[0mprint\u001b[0m\u001b[1;33m(\u001b[0m\u001b[0mi\u001b[0m\u001b[1;33m,\u001b[0m \u001b[0maccur\u001b[0m\u001b[1;33m)\u001b[0m\u001b[1;33m\u001b[0m\u001b[1;33m\u001b[0m\u001b[0m\n\u001b[0;32m     15\u001b[0m \u001b[1;33m\u001b[0m\u001b[0m\n\u001b[1;32m---> 16\u001b[1;33m \u001b[0mprint\u001b[0m\u001b[1;33m(\u001b[0m\u001b[1;34m\"mean rmse for 5-fold: {}\"\u001b[0m\u001b[1;33m.\u001b[0m\u001b[0mformat\u001b[0m\u001b[1;33m(\u001b[0m\u001b[0mstr\u001b[0m\u001b[1;33m(\u001b[0m\u001b[0mnp\u001b[0m\u001b[1;33m.\u001b[0m\u001b[0mmean\u001b[0m\u001b[1;33m(\u001b[0m\u001b[0macc_list\u001b[0m\u001b[1;33m)\u001b[0m\u001b[1;33m)\u001b[0m\u001b[1;33m)\u001b[0m\u001b[1;33m)\u001b[0m\u001b[1;33m\u001b[0m\u001b[1;33m\u001b[0m\u001b[0m\n\u001b[0m\u001b[0;32m     17\u001b[0m \u001b[0mprint\u001b[0m\u001b[1;33m(\u001b[0m\u001b[1;34m\"std roc_auc for 5-fold: {}\"\u001b[0m\u001b[1;33m.\u001b[0m\u001b[0mformat\u001b[0m\u001b[1;33m(\u001b[0m\u001b[0mstr\u001b[0m\u001b[1;33m(\u001b[0m\u001b[0mnp\u001b[0m\u001b[1;33m.\u001b[0m\u001b[0mstd\u001b[0m\u001b[1;33m(\u001b[0m\u001b[0macc_list\u001b[0m\u001b[1;33m)\u001b[0m\u001b[1;33m)\u001b[0m\u001b[1;33m)\u001b[0m\u001b[1;33m)\u001b[0m\u001b[1;33m\u001b[0m\u001b[1;33m\u001b[0m\u001b[0m\n",
      "\u001b[1;31mNameError\u001b[0m: name 'np' is not defined"
     ]
    }
   ],
   "source": [
    "model = LGBMClassifier(n_estimators = 500, max_depth = 3)\n",
    "\n",
    "acc_list = []\n",
    "\n",
    "for i, (train_index, test_index) in enumerate(kf.split(train)):\n",
    "    \n",
    "    X_train, X_test = train.loc[train_index, features], train.loc[test_index, features ]\n",
    "    y_train, y_test = train.loc[train_index, 'target'], train.loc[test_index, 'target']\n",
    "\n",
    "    model.fit(X_train, y_train)\n",
    "    predict = model.predict(X_test)\n",
    "    accur = acc(list(y_test), list(predict))\n",
    "    acc_list.append(accur)\n",
    "    print(i, accur)\n",
    "    \n",
    "print(\"mean rmse for 5-fold: {}\".format(str(np.mean(acc_list))))\n",
    "print(\"std roc_auc for 5-fold: {}\".format(str(np.std(acc_list))))"
   ]
  },
  {
   "cell_type": "code",
   "execution_count": 41,
   "id": "chubby-former",
   "metadata": {},
   "outputs": [],
   "source": [
    "from sklearn.inspection import permutation_importance"
   ]
  },
  {
   "cell_type": "code",
   "execution_count": 53,
   "id": "future-ownership",
   "metadata": {},
   "outputs": [],
   "source": [
    "result = permutation_importance(model, test[features], test['target'], n_repeats=5, random_state=0)"
   ]
  },
  {
   "cell_type": "code",
   "execution_count": 59,
   "id": "neural-veteran",
   "metadata": {},
   "outputs": [
    {
     "name": "stdout",
     "output_type": "stream",
     "text": [
      "bbox_area 0.08\n",
      "convex_area 0.14117647058823532\n",
      "eccentricity 0.15764705882352942\n",
      "equivalent_diameter 0.08235294117647059\n",
      "filled_area 2.2204460492503132e-17\n",
      "major_axis_length 0.00235294117647058\n",
      "minor_axis_length -0.011764705882352922\n",
      "perimeter 0.08470588235294119\n",
      "perimeter_crofton 0.040000000000000015\n",
      "solidity 0.08705882352941177\n"
     ]
    }
   ],
   "source": [
    "i = 0\n",
    "for r in result['importances_mean']:\n",
    "    print(features[i], r)\n",
    "    i = i+1"
   ]
  },
  {
   "cell_type": "code",
   "execution_count": null,
   "id": "adjacent-shock",
   "metadata": {},
   "outputs": [],
   "source": []
  }
 ],
 "metadata": {
  "kernelspec": {
   "display_name": "Python 3",
   "language": "python",
   "name": "python3"
  },
  "language_info": {
   "codemirror_mode": {
    "name": "ipython",
    "version": 3
   },
   "file_extension": ".py",
   "mimetype": "text/x-python",
   "name": "python",
   "nbconvert_exporter": "python",
   "pygments_lexer": "ipython3",
   "version": "3.9.2"
  }
 },
 "nbformat": 4,
 "nbformat_minor": 5
}
