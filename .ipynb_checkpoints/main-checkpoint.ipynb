{
 "cells": [
  {
   "cell_type": "code",
   "execution_count": 1,
   "id": "promotional-final",
   "metadata": {},
   "outputs": [],
   "source": [
    "import numpy as np\n",
    "import cv2 as cv\n",
    "import os\n",
    "\n",
    "#%matplotlib notebook\n",
    "import matplotlib.pyplot as plt\n",
    "from matplotlib.colors import ListedColormap\n",
    "from skimage.feature import corner_harris, corner_subpix, corner_peaks"
   ]
  },
  {
   "cell_type": "code",
   "execution_count": 2,
   "id": "vocal-beast",
   "metadata": {},
   "outputs": [],
   "source": [
    "def viewImageInWindow(image, name_of_window):\n",
    "    cv.namedWindow(name_of_window, cv.WINDOW_NORMAL)\n",
    "    cv.imshow(name_of_window, image)\n",
    "    cv.waitKey(0)\n",
    "    cv.destroyAllWindows()\n",
    " \n",
    "def viewImageInNotebook(imgList):\n",
    "    plt.figure(figsize=(15,10)) # specifying the overall grid size\n",
    "    for i in range(len(imgList)):\n",
    "        plt.subplot(5,5,i+1)\n",
    "        plt.axis('off')\n",
    "        plt.imshow(imgList[i])\n",
    "        plt.show()"
   ]
  },
  {
   "cell_type": "code",
   "execution_count": 3,
   "id": "motivated-suspect",
   "metadata": {},
   "outputs": [],
   "source": [
    "# Фильтрация и бинаризация изображений"
   ]
  },
  {
   "cell_type": "code",
   "execution_count": null,
   "id": "unusual-google",
   "metadata": {},
   "outputs": [],
   "source": []
  },
  {
   "cell_type": "code",
   "execution_count": 4,
   "id": "baking-violation",
   "metadata": {},
   "outputs": [],
   "source": [
    "# Подготовка тестовых выборок"
   ]
  },
  {
   "cell_type": "code",
   "execution_count": 8,
   "id": "accomplished-eagle",
   "metadata": {
    "scrolled": false
   },
   "outputs": [],
   "source": [
    "def load_images_from_folder(folder): \n",
    "    images = [] \n",
    "    for filename in os.listdir(folder): # читаю все предобратанные картинки с фигурами\n",
    "        img = cv.imread(os.path.join(folder,filename))\n",
    "        if img is not None:\n",
    "            images.append(cv.cvtColor(img, cv.COLOR_BGR2RGB)) #\n",
    "    return images\n",
    "\n",
    "imlist = load_images_from_folder('test_imgs/') # список изображений"
   ]
  },
  {
   "cell_type": "code",
   "execution_count": 11,
   "id": "quiet-toronto",
   "metadata": {},
   "outputs": [
    {
     "data": {
      "image/png": "[encoded data removed]",
      "text/plain": [
       "<Figure size 1080x720 with 1 Axes>"
      ]
     },
     "metadata": {
      "needs_background": "light"
     },
     "output_type": "display_data"
    },
    {
     "data": {
      "image/png": "[encoded data removed]",
      "text/plain": [
       "<Figure size 1080x720 with 1 Axes>"
      ]
     },
     "metadata": {
      "needs_background": "light"
     },
     "output_type": "display_data"
    },
    {
     "data": {
      "image/png": "[encoded data removed]",
      "text/plain": [
       "<Figure size 1080x720 with 1 Axes>"
      ]
     },
     "metadata": {
      "needs_background": "light"
     },
     "output_type": "display_data"
    },
    {
     "data": {
      "image/png": "[encoded data removed]",
      "text/plain": [
       "<Figure size 1080x720 with 1 Axes>"
      ]
     },
     "metadata": {
      "needs_background": "light"
     },
     "output_type": "display_data"
    },
    {
     "data": {
      "image/png": "[encoded data removed]",
      "text/plain": [
       "<Figure size 1080x720 with 1 Axes>"
      ]
     },
     "metadata": {
      "needs_background": "light"
     },
     "output_type": "display_data"
    },
    {
     "data": {
      "image/png": "[encoded data removed]",
      "text/plain": [
       "<Figure size 1080x720 with 1 Axes>"
      ]
     },
     "metadata": {
      "needs_background": "light"
     },
     "output_type": "display_data"
    }
   ],
   "source": [
    "for img in imlist:\n",
    "    #img = cv.cvtColor(img, cv.COLOR_BGR2GRAY) # в серошкальный (почему-то не серошкальный выходит)\n",
    "    ret, img = cv.threshold(img, 240 , 255, cv.CHAIN_APPROX_NONE) # бинаризируем (черно белый)\n",
    "    output = img.copy()\n",
    "    cv.rectangle(output, (100, 100), (500, 500), (0, 255, 255), 10) # рандомный bounding\n",
    "    viewImageInNotebook([output]) # с контуром\n",
    "\n"
   ]
  },
  {
   "cell_type": "code",
   "execution_count": null,
   "id": "standing-edinburgh",
   "metadata": {},
   "outputs": [],
   "source": [
    "# Обучение классификатором"
   ]
  },
  {
   "cell_type": "code",
   "execution_count": null,
   "id": "regional-demand",
   "metadata": {},
   "outputs": [],
   "source": []
  },
  {
   "cell_type": "code",
   "execution_count": null,
   "id": "lesbian-sleep",
   "metadata": {},
   "outputs": [],
   "source": [
    "# Bounding найденного"
   ]
  },
  {
   "cell_type": "code",
   "execution_count": null,
   "id": "headed-casting",
   "metadata": {},
   "outputs": [],
   "source": []
  }
 ],
 "metadata": {
  "kernelspec": {
   "display_name": "Python 3",
   "language": "python",
   "name": "python3"
  },
  "language_info": {
   "codemirror_mode": {
    "name": "ipython",
    "version": 3
   },
   "file_extension": ".py",
   "mimetype": "text/x-python",
   "name": "python",
   "nbconvert_exporter": "python",
   "pygments_lexer": "ipython3",
   "version": "3.9.2"
  }
 },
 "nbformat": 4,
 "nbformat_minor": 5
}
